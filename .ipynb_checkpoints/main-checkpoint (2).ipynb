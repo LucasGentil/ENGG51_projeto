{
 "cells": [
  {
   "cell_type": "markdown",
   "id": "48032025-a3e0-4780-a169-c868d05f12d1",
   "metadata": {
    "tags": []
   },
   "source": [
    "# Avaliação  Projeto II: Projeto em Python\n",
    "## **Tarefa**:\n",
    "#### Utilizando a linguagem de programacão Python escreva e execute um programa que seja capaz de realizar as seguintes tarefas:\n",
    "1. Carregar arquivos de áudio em formato wave de um diretório especificado;\n",
    "2. Indexar cada arquivo de forma numérica (o primeiro arquivo do diretório será o “1.wav”, o segundo “2.wav” e assim por diante);\n",
    "3. Realizar o _downmixing_ de cada arquivo (transformar o arquivo estéreo em mono);\n",
    "4. Exibir o gráfico em fução do tempo de um arquivo a ser especificado pelo usuário;\n",
    "5. Sugira outra funcionalidade para tornar o seu projeto original.\n",
    "\n",
    "## Descrição:\n",
    "#### **Formato WAVE**\n",
    "_Waveform Audio File format_, _WAVE_, _WAV_ é um formato de áudio padrão desenvolvido pela IBM e Microsoft para armazenar um fluxo de bits de áudio em PCs. Esse fluxo de bits é condificado por modulação por código de pulso ([PCM](https://pt.wikipedia.org/wiki/Modula%C3%A7%C3%A3o_por_c%C3%B3digo_de_pulsos)).\n",
    "\n",
    "É uma variação do método de formatação de fluxo de bits RIFF para armazenar dados em blocos (chunks) e também parecido com os formatos IFF e o AIFF usados em computadores Macintosh. São levadas em conta algumas diferenças nos processadores Intel como a ordem de bytes \"little-endian\". O formato RIFF age como um \"empacotador\" (wrapper) para vários codecs de compressão de áudio. É o principal formato usado nos sistemas Windows para áudio simples. \n",
    "\n",
    "<img src=\"imagens/wave_file_format.jpeg\" alt=\"wave format\" width=\"500\" />\n",
    "\n"
   ]
  },
  {
   "cell_type": "markdown",
   "id": "c1a76b34-3100-4397-bcea-6c01a6fb8f38",
   "metadata": {},
   "source": [
    "#### **Importando os pacotes utilizados para o processamento do áudio**"
   ]
  },
  {
   "cell_type": "code",
   "execution_count": 8,
   "id": "1a934c97-584a-452d-a4ce-2d483a7b3bf2",
   "metadata": {},
   "outputs": [],
   "source": [
    "from glob import glob\n",
    "import numpy as np\n",
    "from datetime import timedelta\n",
    "from IPython.display import display, Audio\n",
    "from scipy.io.wavfile import read, write"
   ]
  },
  {
   "cell_type": "markdown",
   "id": "bd506a8a-63ec-4c6e-8494-b495f5a5cfaf",
   "metadata": {},
   "source": [
    "#### **Definindo os valores das variáveis usadas no programa**"
   ]
  },
  {
   "cell_type": "code",
   "execution_count": 2,
   "id": "778b7017-0040-44e8-a83b-170bcc99ed6c",
   "metadata": {},
   "outputs": [],
   "source": [
    "ndir    = 'wave_files/'                 # String com o nome da pasta com os arquivos wave\n",
    "wave_d  = {}                            # Dicionário preenchido com os dados dos arquivos .wav\n",
    "path_l  = sorted(glob(ndir + '*.wav'))  # Lista com os caminhos relativos de todos os arquivos .wav\n",
    "n       = 3                             # Quantidade de display de áudios que serão exibidos"
   ]
  },
  {
   "cell_type": "markdown",
   "id": "4780bab9-c9e0-4ec6-a2e3-c02ecb680fba",
   "metadata": {},
   "source": [
    "#### **Carregando e indexando os arquivos .wav presentes na pasta**"
   ]
  },
  {
   "cell_type": "code",
   "execution_count": 30,
   "id": "ffc0e58e-3e92-4053-9cf2-56e39a87f87f",
   "metadata": {},
   "outputs": [
    {
     "name": "stdout",
     "output_type": "stream",
     "text": [
      "ok\n",
      "ok\n",
      "ok\n"
     ]
    }
   ],
   "source": [
    "c       = 1                                        # Contador\n",
    "for file in path_l:\n",
    "    fname = file.split('/')[-1]                    # Nome do arquivo\n",
    "    fr, data = read(file)                          # fr é o \"sample rate\" do arquivo e data os arrays com os dados de audio\n",
    "    time = timedelta(seconds=round(len(data)/fr))  # Calculo da duração do áudio\n",
    "\n",
    "    \n",
    "    # Determinando a quantidade de canais pela dimensão ndarray \n",
    "    if data.ndim >= 2:\n",
    "        sType = 'estéreo'\n",
    "    \n",
    "    else:\n",
    "        sType = 'mono'\n",
    "        \n",
    "    canal = []\n",
    "    for c in data[:,]:\n",
    "        canal.append(c)\n",
    "   \n",
    "\n",
    "    # Indexando os dados e os metadados dos arquivos .wav em um dicionário\" \n",
    "    wave_d[f'{c}.wav'] = {'fileName' : fname,\n",
    "                          'frequency': fr,\n",
    "                          'soundType': sType,\n",
    "                          'data'     : canal,\n",
    "                          'duration' : str(time)}\n",
    "    \n",
    "    c += 1"
   ]
  },
  {
   "cell_type": "markdown",
   "id": "0b738d85-466a-43c3-9bd8-65ecb036d66c",
   "metadata": {},
   "source": [
    "#### **Printando as Informações dos arquivos lidos e criando um reprodutor de áudio**"
   ]
  },
  {
   "cell_type": "code",
   "execution_count": null,
   "id": "7e3ab100-aea3-4440-b1eb-6d00853ff55e",
   "metadata": {},
   "outputs": [],
   "source": [
    "print('Arquivos no formato wave lidos:')\n",
    "\n",
    "c = 0\n",
    "for key, value in wave_d.items():\n",
    "    name  = value[\"fileName\"]\n",
    "    sType = value[\"soundType\"]\n",
    "    fr    = int(value[\"frequency\"]/1000)\n",
    "    dr    = value[\"duration\"]\n",
    "    \n",
    "    print(f'Nome: {name}:\\n Id: {key}, Tipo do som: {sType}, Frequência: {fr}kHz, Duração: {dr}')\n",
    "    \n",
    "\n",
    "    c += 1"
   ]
  },
  {
   "cell_type": "markdown",
   "id": "6c55ea04-9218-4d08-be49-ac75e1e1ba94",
   "metadata": {},
   "source": [
    "#### **Realizar o _downmixing_ de cada arquivo (transformar o arquivo estéreo em mono)**"
   ]
  },
  {
   "cell_type": "code",
   "execution_count": null,
   "id": "e32c6c03-fdc0-4c1c-a93b-ed614b75d71f",
   "metadata": {},
   "outputs": [],
   "source": [
    "for key, value in wave_d.items():\n",
    "    if value['soundType'] == 'estéreo':\n",
    "        downmixing = [int(sum(i)/len(i)) for i in zip(*value['data'])]\n",
    "        print(downmixing)\n",
    "        value['monoData'] = downmixing\n",
    "        wave_d[key] = value\n",
    "                      \n",
    "        \n",
    "    # Condicional de criação do Player. Somente os n primeiros áudios terão um player. \n",
    "    if c < n:\n",
    "        display(Audio(data[:,0], rate=fr))\n",
    "    "
   ]
  },
  {
   "cell_type": "code",
   "execution_count": 32,
   "id": "33493ce7-1a6d-4b83-a57d-d6fad4d5302c",
   "metadata": {},
   "outputs": [
    {
     "data": {
      "text/plain": [
       "{'1.wav': {'fileName': 'feeling_good.wav',\n",
       "  'frequency': 48000,\n",
       "  'soundType': 'estéreo',\n",
       "  'data': array([[0, 0],\n",
       "         [0, 0],\n",
       "         [0, 0],\n",
       "         ...,\n",
       "         [0, 0],\n",
       "         [0, 0],\n",
       "         [0, 0]], dtype=int16),\n",
       "  'duration': '0:03:41',\n",
       "  'monoData': [0, 0]},\n",
       " '2.wav': {'fileName': 'jonathan_kreisberg.wav',\n",
       "  'frequency': 48000,\n",
       "  'soundType': 'estéreo',\n",
       "  'data': array([[ 0,  0],\n",
       "         [ 0,  0],\n",
       "         [ 0,  0],\n",
       "         ...,\n",
       "         [-1,  0],\n",
       "         [-1,  0],\n",
       "         [-1,  0]], dtype=int16),\n",
       "  'duration': '0:07:05'},\n",
       " '3.wav': {'fileName': 'memory_of_silver.wav',\n",
       "  'frequency': 48000,\n",
       "  'soundType': 'estéreo',\n",
       "  'data': array([[0, 0],\n",
       "         [0, 0],\n",
       "         [0, 0],\n",
       "         ...,\n",
       "         [0, 0],\n",
       "         [0, 0],\n",
       "         [0, 0]], dtype=int16),\n",
       "  'duration': '0:03:58'},\n",
       " '[0 0].wav': {'fileName': 'memory_of_silver.wav',\n",
       "  'frequency': 48000,\n",
       "  'soundType': 'estéreo',\n",
       "  'data': array([[0, 0],\n",
       "         [0, 0],\n",
       "         [0, 0],\n",
       "         ...,\n",
       "         [0, 0],\n",
       "         [0, 0],\n",
       "         [1, 1]], dtype=int16),\n",
       "  'duration': '0:03:58'},\n",
       " '[-1  0].wav': {'fileName': 'jonathan_kreisberg.wav',\n",
       "  'frequency': 48000,\n",
       "  'soundType': 'estéreo',\n",
       "  'data': array([[ 0,  0],\n",
       "         [ 0,  0],\n",
       "         [ 0,  0],\n",
       "         ...,\n",
       "         [-1,  0],\n",
       "         [-1,  0],\n",
       "         [ 0,  1]], dtype=int16),\n",
       "  'duration': '0:07:05'}}"
      ]
     },
     "execution_count": 32,
     "metadata": {},
     "output_type": "execute_result"
    }
   ],
   "source": [
    "wave_d"
   ]
  },
  {
   "cell_type": "code",
   "execution_count": null,
   "id": "a1b76950-a941-46bd-8487-b8ede080b314",
   "metadata": {},
   "outputs": [],
   "source": []
  }
 ],
 "metadata": {
  "kernelspec": {
   "display_name": "Python 3",
   "language": "python",
   "name": "python3"
  },
  "language_info": {
   "codemirror_mode": {
    "name": "ipython",
    "version": 3
   },
   "file_extension": ".py",
   "mimetype": "text/x-python",
   "name": "python",
   "nbconvert_exporter": "python",
   "pygments_lexer": "ipython3",
   "version": "3.8.5"
  },
  "toc-autonumbering": false
 },
 "nbformat": 4,
 "nbformat_minor": 5
}
